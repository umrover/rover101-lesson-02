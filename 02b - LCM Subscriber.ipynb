{
 "cells": [
  {
   "cell_type": "markdown",
   "metadata": {},
   "source": [
    "# LCM Subscriber"
   ]
  },
  {
   "cell_type": "markdown",
   "metadata": {},
   "source": [
    "In this tutorial, we are going to explore the other side of LCM: subscriptions. A subscriber receives objects from topics. [A sample publisher is provided](./02a - LCM Publisher.ipynb).\n",
    "\n",
    "Firstly, import `lcm`:"
   ]
  },
  {
   "cell_type": "code",
   "execution_count": 1,
   "metadata": {
    "collapsed": true
   },
   "outputs": [],
   "source": [
    "import lcm"
   ]
  },
  {
   "cell_type": "markdown",
   "metadata": {},
   "source": [
    "We need to generate LCM types. If you've followed along, this will already have been done in the [publisher](./02a - LCM Publisher.ipynb), so we will skip this step. Instead, let's import the `Simple` class:"
   ]
  },
  {
   "cell_type": "code",
   "execution_count": 3,
   "metadata": {},
   "outputs": [],
   "source": [
    "from Simple import Simple"
   ]
  },
  {
   "cell_type": "markdown",
   "metadata": {},
   "source": [
    "Now, we wait and print the first 20 messages we receive:"
   ]
  },
  {
   "cell_type": "code",
   "execution_count": 5,
   "metadata": {},
   "outputs": [
    {
     "name": "stdout",
     "output_type": "stream",
     "text": [
      "Received something on /simple_topic: at 0, 42.83741151575672 by -82.93132892143937\n",
      "Received something on /simple_topic: at 1, 42.02634734720586 by -83.11307630495118\n",
      "Received something on /simple_topic: at 2, 42.84020981689268 by -83.31883746825132\n",
      "Received something on /simple_topic: at 3, 42.23526484285861 by -83.66946422726711\n",
      "Received something on /simple_topic: at 4, 42.36236290086086 by -82.20308284863154\n",
      "Received something on /simple_topic: at 5, 42.35047231283829 by -83.49316648772431\n",
      "Received something on /simple_topic: at 6, 42.97434944965885 by -82.65708679122031\n",
      "Received something on /simple_topic: at 7, 42.33788527646547 by -83.58961652640451\n",
      "Received something on /simple_topic: at 8, 42.0848347026739 by -82.23386075320467\n",
      "Received something on /simple_topic: at 9, 42.147064273143876 by -83.8025376662933\n",
      "Received something on /simple_topic: at 10, 42.900043335991796 by -83.23819715199706\n",
      "Received something on /simple_topic: at 11, 42.51907335645382 by -83.69726751777024\n",
      "Received something on /simple_topic: at 12, 42.40922226206846 by -82.69871723129302\n",
      "Received something on /simple_topic: at 13, 42.922283511695355 by -82.17890097088528\n",
      "Received something on /simple_topic: at 14, 42.689138670348584 by -83.20728688062933\n",
      "Received something on /simple_topic: at 15, 42.8609599417597 by -82.50778079948063\n",
      "Received something on /simple_topic: at 16, 42.43234596892589 by -83.12972533578282\n",
      "Received something on /simple_topic: at 17, 42.892904578060175 by -83.93864209968649\n",
      "Received something on /simple_topic: at 18, 42.7767297488974 by -82.38197702528758\n",
      "Received something on /simple_topic: at 19, 42.93810637579791 by -83.62190262335773\n"
     ]
    }
   ],
   "source": [
    "def message_received(topic, data):\n",
    "    print(\"Received something on {}\".format(topic), end=': ')\n",
    "    simple = Simple.decode(data)\n",
    "    print(\"at {}, {} by {}\".format(simple.elapsed_time_s, simple.latitude_deg, simple.longitude_deg))\n",
    "\n",
    "lc = lcm.LCM()\n",
    "lc.subscribe('/simple_topic', message_received)\n",
    "\n",
    "for i in range(0, 20):\n",
    "    lc.handle()"
   ]
  },
  {
   "cell_type": "markdown",
   "metadata": {},
   "source": [
    "As you can see, LCM enables easy transfer of data between components. What's more awesome, LCM can do this across a network at no extra complexity cost to us."
   ]
  }
 ],
 "metadata": {
  "kernelspec": {
   "display_name": "Python 3",
   "language": "python",
   "name": "python3"
  },
  "language_info": {
   "codemirror_mode": {
    "name": "ipython",
    "version": 3
   },
   "file_extension": ".py",
   "mimetype": "text/x-python",
   "name": "python",
   "nbconvert_exporter": "python",
   "pygments_lexer": "ipython3",
   "version": "3.6.2"
  }
 },
 "nbformat": 4,
 "nbformat_minor": 2
}
